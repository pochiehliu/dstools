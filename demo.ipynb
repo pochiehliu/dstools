{
 "cells": [
  {
   "cell_type": "code",
   "execution_count": 2,
   "metadata": {},
   "outputs": [],
   "source": [
    "import pandas as pd\n",
    "from dstools import feature_stats"
   ]
  },
  {
   "cell_type": "code",
   "execution_count": 3,
   "metadata": {},
   "outputs": [],
   "source": [
    "df_path = 'sample_data/boston.csv'\n",
    "target = 'target'\n",
    "df = pd.read_csv(df_path)"
   ]
  },
  {
   "cell_type": "code",
   "execution_count": 4,
   "metadata": {},
   "outputs": [
    {
     "output_type": "execute_result",
     "data": {
      "text/plain": "        CRIM    ZN  INDUS  CHAS    NOX     RM   AGE     DIS  RAD    TAX  \\\n0    0.00632  18.0   2.31   0.0  0.538  6.575  65.2  4.0900  1.0  296.0   \n1    0.02731   0.0   7.07   0.0  0.469  6.421  78.9  4.9671  2.0  242.0   \n2    0.02729   0.0   7.07   0.0  0.469  7.185  61.1  4.9671  2.0  242.0   \n3    0.03237   0.0   2.18   0.0  0.458  6.998  45.8  6.0622  3.0  222.0   \n4    0.06905   0.0   2.18   0.0  0.458  7.147  54.2  6.0622  3.0  222.0   \n..       ...   ...    ...   ...    ...    ...   ...     ...  ...    ...   \n501  0.06263   0.0  11.93   0.0  0.573  6.593  69.1  2.4786  1.0  273.0   \n502  0.04527   0.0  11.93   0.0  0.573  6.120  76.7  2.2875  1.0  273.0   \n503  0.06076   0.0  11.93   0.0  0.573  6.976  91.0  2.1675  1.0  273.0   \n504  0.10959   0.0  11.93   0.0  0.573  6.794  89.3  2.3889  1.0  273.0   \n505  0.04741   0.0  11.93   0.0  0.573  6.030  80.8  2.5050  1.0  273.0   \n\n     PTRATIO       B  LSTAT  target  \n0       15.3  396.90   4.98    24.0  \n1       17.8  396.90   9.14    21.6  \n2       17.8  392.83   4.03    34.7  \n3       18.7  394.63   2.94    33.4  \n4       18.7  396.90   5.33    36.2  \n..       ...     ...    ...     ...  \n501     21.0  391.99   9.67    22.4  \n502     21.0  396.90   9.08    20.6  \n503     21.0  396.90   5.64    23.9  \n504     21.0  393.45   6.48    22.0  \n505     21.0  396.90   7.88    11.9  \n\n[506 rows x 14 columns]",
      "text/html": "<div>\n<style scoped>\n    .dataframe tbody tr th:only-of-type {\n        vertical-align: middle;\n    }\n\n    .dataframe tbody tr th {\n        vertical-align: top;\n    }\n\n    .dataframe thead th {\n        text-align: right;\n    }\n</style>\n<table border=\"1\" class=\"dataframe\">\n  <thead>\n    <tr style=\"text-align: right;\">\n      <th></th>\n      <th>CRIM</th>\n      <th>ZN</th>\n      <th>INDUS</th>\n      <th>CHAS</th>\n      <th>NOX</th>\n      <th>RM</th>\n      <th>AGE</th>\n      <th>DIS</th>\n      <th>RAD</th>\n      <th>TAX</th>\n      <th>PTRATIO</th>\n      <th>B</th>\n      <th>LSTAT</th>\n      <th>target</th>\n    </tr>\n  </thead>\n  <tbody>\n    <tr>\n      <th>0</th>\n      <td>0.00632</td>\n      <td>18.0</td>\n      <td>2.31</td>\n      <td>0.0</td>\n      <td>0.538</td>\n      <td>6.575</td>\n      <td>65.2</td>\n      <td>4.0900</td>\n      <td>1.0</td>\n      <td>296.0</td>\n      <td>15.3</td>\n      <td>396.90</td>\n      <td>4.98</td>\n      <td>24.0</td>\n    </tr>\n    <tr>\n      <th>1</th>\n      <td>0.02731</td>\n      <td>0.0</td>\n      <td>7.07</td>\n      <td>0.0</td>\n      <td>0.469</td>\n      <td>6.421</td>\n      <td>78.9</td>\n      <td>4.9671</td>\n      <td>2.0</td>\n      <td>242.0</td>\n      <td>17.8</td>\n      <td>396.90</td>\n      <td>9.14</td>\n      <td>21.6</td>\n    </tr>\n    <tr>\n      <th>2</th>\n      <td>0.02729</td>\n      <td>0.0</td>\n      <td>7.07</td>\n      <td>0.0</td>\n      <td>0.469</td>\n      <td>7.185</td>\n      <td>61.1</td>\n      <td>4.9671</td>\n      <td>2.0</td>\n      <td>242.0</td>\n      <td>17.8</td>\n      <td>392.83</td>\n      <td>4.03</td>\n      <td>34.7</td>\n    </tr>\n    <tr>\n      <th>3</th>\n      <td>0.03237</td>\n      <td>0.0</td>\n      <td>2.18</td>\n      <td>0.0</td>\n      <td>0.458</td>\n      <td>6.998</td>\n      <td>45.8</td>\n      <td>6.0622</td>\n      <td>3.0</td>\n      <td>222.0</td>\n      <td>18.7</td>\n      <td>394.63</td>\n      <td>2.94</td>\n      <td>33.4</td>\n    </tr>\n    <tr>\n      <th>4</th>\n      <td>0.06905</td>\n      <td>0.0</td>\n      <td>2.18</td>\n      <td>0.0</td>\n      <td>0.458</td>\n      <td>7.147</td>\n      <td>54.2</td>\n      <td>6.0622</td>\n      <td>3.0</td>\n      <td>222.0</td>\n      <td>18.7</td>\n      <td>396.90</td>\n      <td>5.33</td>\n      <td>36.2</td>\n    </tr>\n    <tr>\n      <th>...</th>\n      <td>...</td>\n      <td>...</td>\n      <td>...</td>\n      <td>...</td>\n      <td>...</td>\n      <td>...</td>\n      <td>...</td>\n      <td>...</td>\n      <td>...</td>\n      <td>...</td>\n      <td>...</td>\n      <td>...</td>\n      <td>...</td>\n      <td>...</td>\n    </tr>\n    <tr>\n      <th>501</th>\n      <td>0.06263</td>\n      <td>0.0</td>\n      <td>11.93</td>\n      <td>0.0</td>\n      <td>0.573</td>\n      <td>6.593</td>\n      <td>69.1</td>\n      <td>2.4786</td>\n      <td>1.0</td>\n      <td>273.0</td>\n      <td>21.0</td>\n      <td>391.99</td>\n      <td>9.67</td>\n      <td>22.4</td>\n    </tr>\n    <tr>\n      <th>502</th>\n      <td>0.04527</td>\n      <td>0.0</td>\n      <td>11.93</td>\n      <td>0.0</td>\n      <td>0.573</td>\n      <td>6.120</td>\n      <td>76.7</td>\n      <td>2.2875</td>\n      <td>1.0</td>\n      <td>273.0</td>\n      <td>21.0</td>\n      <td>396.90</td>\n      <td>9.08</td>\n      <td>20.6</td>\n    </tr>\n    <tr>\n      <th>503</th>\n      <td>0.06076</td>\n      <td>0.0</td>\n      <td>11.93</td>\n      <td>0.0</td>\n      <td>0.573</td>\n      <td>6.976</td>\n      <td>91.0</td>\n      <td>2.1675</td>\n      <td>1.0</td>\n      <td>273.0</td>\n      <td>21.0</td>\n      <td>396.90</td>\n      <td>5.64</td>\n      <td>23.9</td>\n    </tr>\n    <tr>\n      <th>504</th>\n      <td>0.10959</td>\n      <td>0.0</td>\n      <td>11.93</td>\n      <td>0.0</td>\n      <td>0.573</td>\n      <td>6.794</td>\n      <td>89.3</td>\n      <td>2.3889</td>\n      <td>1.0</td>\n      <td>273.0</td>\n      <td>21.0</td>\n      <td>393.45</td>\n      <td>6.48</td>\n      <td>22.0</td>\n    </tr>\n    <tr>\n      <th>505</th>\n      <td>0.04741</td>\n      <td>0.0</td>\n      <td>11.93</td>\n      <td>0.0</td>\n      <td>0.573</td>\n      <td>6.030</td>\n      <td>80.8</td>\n      <td>2.5050</td>\n      <td>1.0</td>\n      <td>273.0</td>\n      <td>21.0</td>\n      <td>396.90</td>\n      <td>7.88</td>\n      <td>11.9</td>\n    </tr>\n  </tbody>\n</table>\n<p>506 rows × 14 columns</p>\n</div>"
     },
     "metadata": {},
     "execution_count": 4
    }
   ],
   "source": [
    "df"
   ]
  },
  {
   "cell_type": "code",
   "execution_count": 3,
   "metadata": {},
   "outputs": [
    {
     "output_type": "execute_result",
     "data": {
      "text/plain": "            mean   median        std  nunique      min       25%      50%  \\\nCRIM    3.613524  0.25651   8.601545      504  0.00632  0.082045  0.25651   \nZN     11.363636  0.00000  23.322453       26  0.00000  0.000000  0.00000   \nINDUS  11.136779  9.69000   6.860353       76  0.46000  5.190000  9.69000   \nCHAS    0.069170  0.00000   0.253994        2  0.00000  0.000000  0.00000   \nNOX     0.554695  0.53800   0.115878       81  0.38500  0.449000  0.53800   \n\n             75%       max  5-th_lar_val  ...  corr(x^.5,y)  corr(logx,y)  \\\nCRIM    3.677082   88.9762       45.7461  ...      0.463354      0.464084   \nZN     12.500000  100.0000       95.0000  ...      0.382970      0.384007   \nINDUS  18.100000   27.7400       27.7400  ...      0.507810      0.518582   \nCHAS    0.000000    1.0000        1.0000  ...      0.175260      0.175260   \nNOX     0.624000    0.8710        0.8710  ...      0.429903      0.429563   \n\n       corr(tanhx,y)  corr(sigx,y  0.99-qt_mean_y  0.95-qt_mean_y  \\\nCRIM        0.388255     0.413647        9.116667       10.150000   \nZN          0.373458     0.373459       38.960000       31.544828   \nINDUS       0.223579     0.348873       16.666667       16.903704   \nCHAS        0.175260     0.175260       28.440000       28.440000   \nNOX         0.431081     0.428691       16.425000       16.067568   \n\n       0.9-qt_mean_y  0.1-qt_mean_y  0.05-qt_mean_y  0.01-qt_mean_y  \nCRIM       12.272549      29.384314       31.123077       27.533333  \nZN         29.933333      20.473387       20.473387       20.473387  \nINDUS      20.454386      31.613725       30.206452       34.933333  \nCHAS       22.532806      22.093843       22.093843       22.093843  \nNOX        16.140984      28.286275       27.788462       24.542857  \n\n[5 rows x 31 columns]",
      "text/html": "<div>\n<style scoped>\n    .dataframe tbody tr th:only-of-type {\n        vertical-align: middle;\n    }\n\n    .dataframe tbody tr th {\n        vertical-align: top;\n    }\n\n    .dataframe thead th {\n        text-align: right;\n    }\n</style>\n<table border=\"1\" class=\"dataframe\">\n  <thead>\n    <tr style=\"text-align: right;\">\n      <th></th>\n      <th>mean</th>\n      <th>median</th>\n      <th>std</th>\n      <th>nunique</th>\n      <th>min</th>\n      <th>25%</th>\n      <th>50%</th>\n      <th>75%</th>\n      <th>max</th>\n      <th>5-th_lar_val</th>\n      <th>...</th>\n      <th>corr(x^.5,y)</th>\n      <th>corr(logx,y)</th>\n      <th>corr(tanhx,y)</th>\n      <th>corr(sigx,y</th>\n      <th>0.99-qt_mean_y</th>\n      <th>0.95-qt_mean_y</th>\n      <th>0.9-qt_mean_y</th>\n      <th>0.1-qt_mean_y</th>\n      <th>0.05-qt_mean_y</th>\n      <th>0.01-qt_mean_y</th>\n    </tr>\n  </thead>\n  <tbody>\n    <tr>\n      <th>CRIM</th>\n      <td>3.613524</td>\n      <td>0.25651</td>\n      <td>8.601545</td>\n      <td>504</td>\n      <td>0.00632</td>\n      <td>0.082045</td>\n      <td>0.25651</td>\n      <td>3.677082</td>\n      <td>88.9762</td>\n      <td>45.7461</td>\n      <td>...</td>\n      <td>0.463354</td>\n      <td>0.464084</td>\n      <td>0.388255</td>\n      <td>0.413647</td>\n      <td>9.116667</td>\n      <td>10.150000</td>\n      <td>12.272549</td>\n      <td>29.384314</td>\n      <td>31.123077</td>\n      <td>27.533333</td>\n    </tr>\n    <tr>\n      <th>ZN</th>\n      <td>11.363636</td>\n      <td>0.00000</td>\n      <td>23.322453</td>\n      <td>26</td>\n      <td>0.00000</td>\n      <td>0.000000</td>\n      <td>0.00000</td>\n      <td>12.500000</td>\n      <td>100.0000</td>\n      <td>95.0000</td>\n      <td>...</td>\n      <td>0.382970</td>\n      <td>0.384007</td>\n      <td>0.373458</td>\n      <td>0.373459</td>\n      <td>38.960000</td>\n      <td>31.544828</td>\n      <td>29.933333</td>\n      <td>20.473387</td>\n      <td>20.473387</td>\n      <td>20.473387</td>\n    </tr>\n    <tr>\n      <th>INDUS</th>\n      <td>11.136779</td>\n      <td>9.69000</td>\n      <td>6.860353</td>\n      <td>76</td>\n      <td>0.46000</td>\n      <td>5.190000</td>\n      <td>9.69000</td>\n      <td>18.100000</td>\n      <td>27.7400</td>\n      <td>27.7400</td>\n      <td>...</td>\n      <td>0.507810</td>\n      <td>0.518582</td>\n      <td>0.223579</td>\n      <td>0.348873</td>\n      <td>16.666667</td>\n      <td>16.903704</td>\n      <td>20.454386</td>\n      <td>31.613725</td>\n      <td>30.206452</td>\n      <td>34.933333</td>\n    </tr>\n    <tr>\n      <th>CHAS</th>\n      <td>0.069170</td>\n      <td>0.00000</td>\n      <td>0.253994</td>\n      <td>2</td>\n      <td>0.00000</td>\n      <td>0.000000</td>\n      <td>0.00000</td>\n      <td>0.000000</td>\n      <td>1.0000</td>\n      <td>1.0000</td>\n      <td>...</td>\n      <td>0.175260</td>\n      <td>0.175260</td>\n      <td>0.175260</td>\n      <td>0.175260</td>\n      <td>28.440000</td>\n      <td>28.440000</td>\n      <td>22.532806</td>\n      <td>22.093843</td>\n      <td>22.093843</td>\n      <td>22.093843</td>\n    </tr>\n    <tr>\n      <th>NOX</th>\n      <td>0.554695</td>\n      <td>0.53800</td>\n      <td>0.115878</td>\n      <td>81</td>\n      <td>0.38500</td>\n      <td>0.449000</td>\n      <td>0.53800</td>\n      <td>0.624000</td>\n      <td>0.8710</td>\n      <td>0.8710</td>\n      <td>...</td>\n      <td>0.429903</td>\n      <td>0.429563</td>\n      <td>0.431081</td>\n      <td>0.428691</td>\n      <td>16.425000</td>\n      <td>16.067568</td>\n      <td>16.140984</td>\n      <td>28.286275</td>\n      <td>27.788462</td>\n      <td>24.542857</td>\n    </tr>\n  </tbody>\n</table>\n<p>5 rows × 31 columns</p>\n</div>"
     },
     "metadata": {},
     "execution_count": 3
    }
   ],
   "source": [
    "df_stats = feature_stats(df, target)\n",
    "df_stats.head()"
   ]
  },
  {
   "cell_type": "code",
   "execution_count": 4,
   "metadata": {},
   "outputs": [
    {
     "output_type": "execute_result",
     "data": {
      "text/plain": "Index(['mean', 'median', 'std', 'nunique', 'min', '25%', '50%', '75%', 'max',\n       '5-th_lar_val', '10-th_lar_val', '15-th_lar_val', '20-th_lar_val',\n       '5-th_sma_val', '10-th_sma_val', '15-th_sma_val', '20-th_sma_val',\n       'na_cnt', 'corr(x,y)', 'corr(x^2,y)', 'corr(x^3,y)', 'corr(x^.5,y)',\n       'corr(logx,y)', 'corr(tanhx,y)', 'corr(sigx,y', '0.99-qt_mean_y',\n       '0.95-qt_mean_y', '0.9-qt_mean_y', '0.1-qt_mean_y', '0.05-qt_mean_y',\n       '0.01-qt_mean_y'],\n      dtype='object')"
     },
     "metadata": {},
     "execution_count": 4
    }
   ],
   "source": [
    "df_stats.columns"
   ]
  },
  {
   "cell_type": "code",
   "execution_count": 5,
   "metadata": {},
   "outputs": [],
   "source": [
    "from dstools import regr"
   ]
  },
  {
   "cell_type": "code",
   "execution_count": 9,
   "metadata": {
    "tags": []
   },
   "outputs": [],
   "source": [
    "model, log = regr(df, target, metric='MAE',top_n=3)"
   ]
  },
  {
   "cell_type": "code",
   "execution_count": 16,
   "metadata": {},
   "outputs": [
    {
     "output_type": "execute_result",
     "data": {
      "text/plain": "<catboost.core.CatBoostRegressor at 0x1c08fef2d68>"
     },
     "metadata": {},
     "execution_count": 16
    }
   ],
   "source": [
    "model"
   ]
  },
  {
   "cell_type": "code",
   "execution_count": 26,
   "metadata": {},
   "outputs": [
    {
     "output_type": "execute_result",
     "data": {
      "text/plain": "{'nan_mode': 'Min',\n 'eval_metric': 'RMSE',\n 'iterations': 1000,\n 'sampling_frequency': 'PerTree',\n 'leaf_estimation_method': 'Newton',\n 'grow_policy': 'SymmetricTree',\n 'penalties_coefficient': 1,\n 'boosting_type': 'Plain',\n 'model_shrink_mode': 'Constant',\n 'feature_border_type': 'GreedyLogSum',\n 'bayesian_matrix_reg': 0.10000000149011612,\n 'l2_leaf_reg': 3,\n 'random_strength': 1,\n 'rsm': 1,\n 'boost_from_average': True,\n 'model_size_reg': 0.5,\n 'subsample': 0.800000011920929,\n 'use_best_model': False,\n 'random_seed': 42,\n 'depth': 6,\n 'posterior_sampling': False,\n 'border_count': 254,\n 'classes_count': 0,\n 'auto_class_weights': 'None',\n 'sparse_features_conflict_fraction': 0,\n 'leaf_estimation_backtracking': 'AnyImprovement',\n 'best_model_min_trees': 1,\n 'model_shrink_rate': 0,\n 'min_data_in_leaf': 1,\n 'loss_function': 'RMSE',\n 'learning_rate': 0.03457299992442131,\n 'score_function': 'Cosine',\n 'task_type': 'CPU',\n 'leaf_estimation_iterations': 1,\n 'bootstrap_type': 'MVS',\n 'max_leaves': 64}"
     },
     "metadata": {},
     "execution_count": 26
    }
   ],
   "source": [
    "model.get_all_params()"
   ]
  },
  {
   "cell_type": "code",
   "execution_count": 27,
   "metadata": {},
   "outputs": [
    {
     "output_type": "execute_result",
     "data": {
      "text/plain": "                             run_id experiment_id    status  \\\n0  ff60354e0266449c96241221d33beb7f             1  FINISHED   \n1  0326ca5f307f414faa41d4597b032213             1  FINISHED   \n2  da375aab82dc4897b28b64d47cfc02bc             1  FINISHED   \n3  9ae1b2974c8b4389a37283b2a05b5d39             1  FINISHED   \n4  8f1db5e2414e49c5be47e0086cf91486             1  FINISHED   \n\n                                        artifact_uri  \\\n0  file:///E:/Dropbox/04_Personal%20Practice/1_in...   \n1  file:///E:/Dropbox/04_Personal%20Practice/1_in...   \n2  file:///E:/Dropbox/04_Personal%20Practice/1_in...   \n3  file:///E:/Dropbox/04_Personal%20Practice/1_in...   \n4  file:///E:/Dropbox/04_Personal%20Practice/1_in...   \n\n                        start_time                         end_time  \\\n0 2020-08-31 21:25:08.954000+00:00 2020-08-31 21:25:09.129000+00:00   \n1 2020-08-31 21:24:43.965000+00:00 2020-08-31 21:24:44.156000+00:00   \n2 2020-08-31 21:24:17.320000+00:00 2020-08-31 21:24:17.666000+00:00   \n3 2020-08-31 21:24:17.072000+00:00 2020-08-31 21:24:17.310000+00:00   \n4 2020-08-31 21:24:16.491000+00:00 2020-08-31 21:24:16.889000+00:00   \n\n   metrics.TT  metrics.MSE  metrics.R2  metrics.RMSLE  ...  tags.Run Time  \\\n0       24.79    11.026300    0.866300       0.141500  ...          24.79   \n1       25.37    11.026300    0.866300       0.141500  ...          25.37   \n2       11.10    10.625835    0.868491       0.137017  ...          148.2   \n3        0.00    25.550661    0.687535       0.256812  ...           0.17   \n4        0.07    11.933188    0.851496       0.146285  ...           0.87   \n\n   tags.Final  tags.mlflow.user  tags.URI     tags.Source tags.USI  \\\n0        True           Pochieh  7ec2d6aa  finalize_model     b5e8   \n1        True           Pochieh  d31d99c9  finalize_model     b5e8   \n2        None           Pochieh  fde846d8    stack_models     b5e8   \n3        None           Pochieh  4fa128f0    create_model     b5e8   \n4        None           Pochieh  a8b894cb    create_model     b5e8   \n\n                       tags.mlflow.log-model.history tags.mlflow.source.name  \\\n0  [{\"run_id\": \"ff60354e0266449c96241221d33beb7f\"...      ipykernel_launcher   \n1  [{\"run_id\": \"0326ca5f307f414faa41d4597b032213\"...      ipykernel_launcher   \n2  [{\"run_id\": \"da375aab82dc4897b28b64d47cfc02bc\"...      ipykernel_launcher   \n3  [{\"run_id\": \"9ae1b2974c8b4389a37283b2a05b5d39\"...      ipykernel_launcher   \n4  [{\"run_id\": \"8f1db5e2414e49c5be47e0086cf91486\"...      ipykernel_launcher   \n\n  tags.mlflow.source.type        tags.mlflow.runName  \n0                   LOCAL         CatBoost Regressor  \n1                   LOCAL         CatBoost Regressor  \n2                   LOCAL         Stacking Regressor  \n3                   LOCAL          Linear Regression  \n4                   LOCAL  Extreme Gradient Boosting  \n\n[5 rows x 178 columns]",
      "text/html": "<div>\n<style scoped>\n    .dataframe tbody tr th:only-of-type {\n        vertical-align: middle;\n    }\n\n    .dataframe tbody tr th {\n        vertical-align: top;\n    }\n\n    .dataframe thead th {\n        text-align: right;\n    }\n</style>\n<table border=\"1\" class=\"dataframe\">\n  <thead>\n    <tr style=\"text-align: right;\">\n      <th></th>\n      <th>run_id</th>\n      <th>experiment_id</th>\n      <th>status</th>\n      <th>artifact_uri</th>\n      <th>start_time</th>\n      <th>end_time</th>\n      <th>metrics.TT</th>\n      <th>metrics.MSE</th>\n      <th>metrics.R2</th>\n      <th>metrics.RMSLE</th>\n      <th>...</th>\n      <th>tags.Run Time</th>\n      <th>tags.Final</th>\n      <th>tags.mlflow.user</th>\n      <th>tags.URI</th>\n      <th>tags.Source</th>\n      <th>tags.USI</th>\n      <th>tags.mlflow.log-model.history</th>\n      <th>tags.mlflow.source.name</th>\n      <th>tags.mlflow.source.type</th>\n      <th>tags.mlflow.runName</th>\n    </tr>\n  </thead>\n  <tbody>\n    <tr>\n      <th>0</th>\n      <td>ff60354e0266449c96241221d33beb7f</td>\n      <td>1</td>\n      <td>FINISHED</td>\n      <td>file:///E:/Dropbox/04_Personal%20Practice/1_in...</td>\n      <td>2020-08-31 21:25:08.954000+00:00</td>\n      <td>2020-08-31 21:25:09.129000+00:00</td>\n      <td>24.79</td>\n      <td>11.026300</td>\n      <td>0.866300</td>\n      <td>0.141500</td>\n      <td>...</td>\n      <td>24.79</td>\n      <td>True</td>\n      <td>Pochieh</td>\n      <td>7ec2d6aa</td>\n      <td>finalize_model</td>\n      <td>b5e8</td>\n      <td>[{\"run_id\": \"ff60354e0266449c96241221d33beb7f\"...</td>\n      <td>ipykernel_launcher</td>\n      <td>LOCAL</td>\n      <td>CatBoost Regressor</td>\n    </tr>\n    <tr>\n      <th>1</th>\n      <td>0326ca5f307f414faa41d4597b032213</td>\n      <td>1</td>\n      <td>FINISHED</td>\n      <td>file:///E:/Dropbox/04_Personal%20Practice/1_in...</td>\n      <td>2020-08-31 21:24:43.965000+00:00</td>\n      <td>2020-08-31 21:24:44.156000+00:00</td>\n      <td>25.37</td>\n      <td>11.026300</td>\n      <td>0.866300</td>\n      <td>0.141500</td>\n      <td>...</td>\n      <td>25.37</td>\n      <td>True</td>\n      <td>Pochieh</td>\n      <td>d31d99c9</td>\n      <td>finalize_model</td>\n      <td>b5e8</td>\n      <td>[{\"run_id\": \"0326ca5f307f414faa41d4597b032213\"...</td>\n      <td>ipykernel_launcher</td>\n      <td>LOCAL</td>\n      <td>CatBoost Regressor</td>\n    </tr>\n    <tr>\n      <th>2</th>\n      <td>da375aab82dc4897b28b64d47cfc02bc</td>\n      <td>1</td>\n      <td>FINISHED</td>\n      <td>file:///E:/Dropbox/04_Personal%20Practice/1_in...</td>\n      <td>2020-08-31 21:24:17.320000+00:00</td>\n      <td>2020-08-31 21:24:17.666000+00:00</td>\n      <td>11.10</td>\n      <td>10.625835</td>\n      <td>0.868491</td>\n      <td>0.137017</td>\n      <td>...</td>\n      <td>148.2</td>\n      <td>None</td>\n      <td>Pochieh</td>\n      <td>fde846d8</td>\n      <td>stack_models</td>\n      <td>b5e8</td>\n      <td>[{\"run_id\": \"da375aab82dc4897b28b64d47cfc02bc\"...</td>\n      <td>ipykernel_launcher</td>\n      <td>LOCAL</td>\n      <td>Stacking Regressor</td>\n    </tr>\n    <tr>\n      <th>3</th>\n      <td>9ae1b2974c8b4389a37283b2a05b5d39</td>\n      <td>1</td>\n      <td>FINISHED</td>\n      <td>file:///E:/Dropbox/04_Personal%20Practice/1_in...</td>\n      <td>2020-08-31 21:24:17.072000+00:00</td>\n      <td>2020-08-31 21:24:17.310000+00:00</td>\n      <td>0.00</td>\n      <td>25.550661</td>\n      <td>0.687535</td>\n      <td>0.256812</td>\n      <td>...</td>\n      <td>0.17</td>\n      <td>None</td>\n      <td>Pochieh</td>\n      <td>4fa128f0</td>\n      <td>create_model</td>\n      <td>b5e8</td>\n      <td>[{\"run_id\": \"9ae1b2974c8b4389a37283b2a05b5d39\"...</td>\n      <td>ipykernel_launcher</td>\n      <td>LOCAL</td>\n      <td>Linear Regression</td>\n    </tr>\n    <tr>\n      <th>4</th>\n      <td>8f1db5e2414e49c5be47e0086cf91486</td>\n      <td>1</td>\n      <td>FINISHED</td>\n      <td>file:///E:/Dropbox/04_Personal%20Practice/1_in...</td>\n      <td>2020-08-31 21:24:16.491000+00:00</td>\n      <td>2020-08-31 21:24:16.889000+00:00</td>\n      <td>0.07</td>\n      <td>11.933188</td>\n      <td>0.851496</td>\n      <td>0.146285</td>\n      <td>...</td>\n      <td>0.87</td>\n      <td>None</td>\n      <td>Pochieh</td>\n      <td>a8b894cb</td>\n      <td>create_model</td>\n      <td>b5e8</td>\n      <td>[{\"run_id\": \"8f1db5e2414e49c5be47e0086cf91486\"...</td>\n      <td>ipykernel_launcher</td>\n      <td>LOCAL</td>\n      <td>Extreme Gradient Boosting</td>\n    </tr>\n  </tbody>\n</table>\n<p>5 rows × 178 columns</p>\n</div>"
     },
     "metadata": {},
     "execution_count": 27
    }
   ],
   "source": [
    "log.head()"
   ]
  },
  {
   "cell_type": "code",
   "execution_count": null,
   "metadata": {},
   "outputs": [],
   "source": []
  }
 ],
 "metadata": {
  "language_info": {
   "codemirror_mode": {
    "name": "ipython",
    "version": 3
   },
   "file_extension": ".py",
   "mimetype": "text/x-python",
   "name": "python",
   "nbconvert_exporter": "python",
   "pygments_lexer": "ipython3",
   "version": "3.6.10-final"
  },
  "orig_nbformat": 2,
  "kernelspec": {
   "name": "python_defaultSpec_1598908285887",
   "display_name": "Python 3.6.10 64-bit ('pycaret': conda)"
  }
 },
 "nbformat": 4,
 "nbformat_minor": 2
}
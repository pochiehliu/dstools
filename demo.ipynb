{
 "cells": [
  {
   "cell_type": "code",
   "execution_count": 1,
   "metadata": {},
   "outputs": [],
   "source": [
    "import pandas as pd\n",
    "from dstools import feature_stats"
   ]
  },
  {
   "cell_type": "code",
   "execution_count": 2,
   "metadata": {},
   "outputs": [],
   "source": [
    "df_path = 'sample_data/boston.csv'\n",
    "target = 'target'\n",
    "df = pd.read_csv(df_path)"
   ]
  },
  {
   "cell_type": "code",
   "execution_count": 3,
   "metadata": {},
   "outputs": [
    {
     "output_type": "execute_result",
     "data": {
      "text/plain": "            mean   median        std  nunique      min       25%      50%  \\\nCRIM    3.613524  0.25651   8.601545      504  0.00632  0.082045  0.25651   \nZN     11.363636  0.00000  23.322453       26  0.00000  0.000000  0.00000   \nINDUS  11.136779  9.69000   6.860353       76  0.46000  5.190000  9.69000   \nCHAS    0.069170  0.00000   0.253994        2  0.00000  0.000000  0.00000   \nNOX     0.554695  0.53800   0.115878       81  0.38500  0.449000  0.53800   \n\n             75%       max  5-th_lar_val  ...  corr(x^.5,y)  corr(logx,y)  \\\nCRIM    3.677082   88.9762       45.7461  ...      0.463354      0.464084   \nZN     12.500000  100.0000       95.0000  ...      0.382970      0.384007   \nINDUS  18.100000   27.7400       27.7400  ...      0.507810      0.518582   \nCHAS    0.000000    1.0000        1.0000  ...      0.175260      0.175260   \nNOX     0.624000    0.8710        0.8710  ...      0.429903      0.429563   \n\n       corr(tanhx,y)  corr(sigx,y  0.99-qt_mean_y  0.95-qt_mean_y  \\\nCRIM        0.388255     0.413647        9.116667       10.150000   \nZN          0.373458     0.373459       38.960000       31.544828   \nINDUS       0.223579     0.348873       16.666667       16.903704   \nCHAS        0.175260     0.175260       28.440000       28.440000   \nNOX         0.431081     0.428691       16.425000       16.067568   \n\n       0.9-qt_mean_y  0.1-qt_mean_y  0.05-qt_mean_y  0.01-qt_mean_y  \nCRIM       12.272549      29.384314       31.123077       27.533333  \nZN         29.933333      20.473387       20.473387       20.473387  \nINDUS      20.454386      31.613725       30.206452       34.933333  \nCHAS       22.532806      22.093843       22.093843       22.093843  \nNOX        16.140984      28.286275       27.788462       24.542857  \n\n[5 rows x 31 columns]",
      "text/html": "<div>\n<style scoped>\n    .dataframe tbody tr th:only-of-type {\n        vertical-align: middle;\n    }\n\n    .dataframe tbody tr th {\n        vertical-align: top;\n    }\n\n    .dataframe thead th {\n        text-align: right;\n    }\n</style>\n<table border=\"1\" class=\"dataframe\">\n  <thead>\n    <tr style=\"text-align: right;\">\n      <th></th>\n      <th>mean</th>\n      <th>median</th>\n      <th>std</th>\n      <th>nunique</th>\n      <th>min</th>\n      <th>25%</th>\n      <th>50%</th>\n      <th>75%</th>\n      <th>max</th>\n      <th>5-th_lar_val</th>\n      <th>...</th>\n      <th>corr(x^.5,y)</th>\n      <th>corr(logx,y)</th>\n      <th>corr(tanhx,y)</th>\n      <th>corr(sigx,y</th>\n      <th>0.99-qt_mean_y</th>\n      <th>0.95-qt_mean_y</th>\n      <th>0.9-qt_mean_y</th>\n      <th>0.1-qt_mean_y</th>\n      <th>0.05-qt_mean_y</th>\n      <th>0.01-qt_mean_y</th>\n    </tr>\n  </thead>\n  <tbody>\n    <tr>\n      <th>CRIM</th>\n      <td>3.613524</td>\n      <td>0.25651</td>\n      <td>8.601545</td>\n      <td>504</td>\n      <td>0.00632</td>\n      <td>0.082045</td>\n      <td>0.25651</td>\n      <td>3.677082</td>\n      <td>88.9762</td>\n      <td>45.7461</td>\n      <td>...</td>\n      <td>0.463354</td>\n      <td>0.464084</td>\n      <td>0.388255</td>\n      <td>0.413647</td>\n      <td>9.116667</td>\n      <td>10.150000</td>\n      <td>12.272549</td>\n      <td>29.384314</td>\n      <td>31.123077</td>\n      <td>27.533333</td>\n    </tr>\n    <tr>\n      <th>ZN</th>\n      <td>11.363636</td>\n      <td>0.00000</td>\n      <td>23.322453</td>\n      <td>26</td>\n      <td>0.00000</td>\n      <td>0.000000</td>\n      <td>0.00000</td>\n      <td>12.500000</td>\n      <td>100.0000</td>\n      <td>95.0000</td>\n      <td>...</td>\n      <td>0.382970</td>\n      <td>0.384007</td>\n      <td>0.373458</td>\n      <td>0.373459</td>\n      <td>38.960000</td>\n      <td>31.544828</td>\n      <td>29.933333</td>\n      <td>20.473387</td>\n      <td>20.473387</td>\n      <td>20.473387</td>\n    </tr>\n    <tr>\n      <th>INDUS</th>\n      <td>11.136779</td>\n      <td>9.69000</td>\n      <td>6.860353</td>\n      <td>76</td>\n      <td>0.46000</td>\n      <td>5.190000</td>\n      <td>9.69000</td>\n      <td>18.100000</td>\n      <td>27.7400</td>\n      <td>27.7400</td>\n      <td>...</td>\n      <td>0.507810</td>\n      <td>0.518582</td>\n      <td>0.223579</td>\n      <td>0.348873</td>\n      <td>16.666667</td>\n      <td>16.903704</td>\n      <td>20.454386</td>\n      <td>31.613725</td>\n      <td>30.206452</td>\n      <td>34.933333</td>\n    </tr>\n    <tr>\n      <th>CHAS</th>\n      <td>0.069170</td>\n      <td>0.00000</td>\n      <td>0.253994</td>\n      <td>2</td>\n      <td>0.00000</td>\n      <td>0.000000</td>\n      <td>0.00000</td>\n      <td>0.000000</td>\n      <td>1.0000</td>\n      <td>1.0000</td>\n      <td>...</td>\n      <td>0.175260</td>\n      <td>0.175260</td>\n      <td>0.175260</td>\n      <td>0.175260</td>\n      <td>28.440000</td>\n      <td>28.440000</td>\n      <td>22.532806</td>\n      <td>22.093843</td>\n      <td>22.093843</td>\n      <td>22.093843</td>\n    </tr>\n    <tr>\n      <th>NOX</th>\n      <td>0.554695</td>\n      <td>0.53800</td>\n      <td>0.115878</td>\n      <td>81</td>\n      <td>0.38500</td>\n      <td>0.449000</td>\n      <td>0.53800</td>\n      <td>0.624000</td>\n      <td>0.8710</td>\n      <td>0.8710</td>\n      <td>...</td>\n      <td>0.429903</td>\n      <td>0.429563</td>\n      <td>0.431081</td>\n      <td>0.428691</td>\n      <td>16.425000</td>\n      <td>16.067568</td>\n      <td>16.140984</td>\n      <td>28.286275</td>\n      <td>27.788462</td>\n      <td>24.542857</td>\n    </tr>\n  </tbody>\n</table>\n<p>5 rows × 31 columns</p>\n</div>"
     },
     "metadata": {},
     "execution_count": 3
    }
   ],
   "source": [
    "df_stats = feature_stats(df, target)\n",
    "df_stats.head()"
   ]
  },
  {
   "cell_type": "code",
   "execution_count": 4,
   "metadata": {},
   "outputs": [
    {
     "output_type": "execute_result",
     "data": {
      "text/plain": "Index(['mean', 'median', 'std', 'nunique', 'min', '25%', '50%', '75%', 'max',\n       '5-th_lar_val', '10-th_lar_val', '15-th_lar_val', '20-th_lar_val',\n       '5-th_sma_val', '10-th_sma_val', '15-th_sma_val', '20-th_sma_val',\n       'na_cnt', 'corr(x,y)', 'corr(x^2,y)', 'corr(x^3,y)', 'corr(x^.5,y)',\n       'corr(logx,y)', 'corr(tanhx,y)', 'corr(sigx,y', '0.99-qt_mean_y',\n       '0.95-qt_mean_y', '0.9-qt_mean_y', '0.1-qt_mean_y', '0.05-qt_mean_y',\n       '0.01-qt_mean_y'],\n      dtype='object')"
     },
     "metadata": {},
     "execution_count": 4
    }
   ],
   "source": [
    "df_stats.columns"
   ]
  },
  {
   "cell_type": "code",
   "execution_count": null,
   "metadata": {},
   "outputs": [],
   "source": []
  }
 ],
 "metadata": {
  "language_info": {
   "codemirror_mode": {
    "name": "ipython",
    "version": 3
   },
   "file_extension": ".py",
   "mimetype": "text/x-python",
   "name": "python",
   "nbconvert_exporter": "python",
   "pygments_lexer": "ipython3",
   "version": 3
  },
  "orig_nbformat": 2,
  "kernelspec": {
   "name": "python_defaultSpec_1598557842082",
   "display_name": "Python 3.7.7 64-bit ('TPOT': conda)"
  }
 },
 "nbformat": 4,
 "nbformat_minor": 2
}